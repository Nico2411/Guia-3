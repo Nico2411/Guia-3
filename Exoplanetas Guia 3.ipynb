{
 "cells": [
  {
   "cell_type": "code",
   "execution_count": 1,
   "metadata": {},
   "outputs": [],
   "source": [
    "import pyvo \n",
    "service = pyvo.dal.TAPService(\"http://voparis-tap-planeto.obspm.fr/tap\")"
   ]
  },
  {
   "cell_type": "code",
   "execution_count": 2,
   "metadata": {},
   "outputs": [],
   "source": [
    "import numpy as np"
   ]
  },
  {
   "cell_type": "markdown",
   "metadata": {},
   "source": [
    "Para el punto 6 debo estudiar la distribucion para distintas tecnicas de observacion (transito, RV, microlentes, etc) y ver si existe una correllacion entre la tecnica utilizada y los datos observados."
   ]
  },
  {
   "cell_type": "code",
   "execution_count": 4,
   "metadata": {},
   "outputs": [],
   "source": [
    "query = \"SELECT detection_type, mass, period FROM exoplanet.epn_core WHERE (mass IS NOT NULL AND period IS NOT NULL)\" \n",
    "# Busco los resultados que tengan masa y periodo NO nulo"
   ]
  },
  {
   "cell_type": "code",
   "execution_count": 5,
   "metadata": {},
   "outputs": [],
   "source": [
    "resultados = service.search(query)"
   ]
  },
  {
   "cell_type": "code",
   "execution_count": 6,
   "metadata": {},
   "outputs": [
    {
     "name": "stdout",
     "output_type": "stream",
     "text": [
      "<Table length=1050>\n",
      " detection_type      mass      period \n",
      "                'jupiterMass'    d    \n",
      "     object        float64    float64 \n",
      "--------------- ------------- --------\n",
      "        Imaging          21.0 730000.0\n",
      "         Pulsar           1.9    416.0\n",
      "        Imaging          20.0   7340.0\n",
      "        Imaging          30.0   8686.0\n",
      "     Astrometry         66.95    690.0\n",
      "        Imaging           3.7  32850.0\n",
      "        Imaging           2.6  10260.0\n",
      "Radial Velocity          0.47   4.2308\n",
      "Radial Velocity          0.84 14.65314\n",
      "            ...           ...      ...\n",
      "Radial Velocity          3.25  16509.0\n",
      "Radial Velocity         63.88    428.5\n",
      "Radial Velocity         11.09    903.3\n",
      "        Imaging          13.0 215000.0\n",
      "Radial Velocity         13.01  2089.11\n",
      "Primary Transit       0.01517  6.26784\n",
      "Radial Velocity          5.84  3.31249\n",
      "Radial Velocity          0.62  4.61711\n",
      "Radial Velocity           9.1  240.937\n",
      "Radial Velocity         23.58 1281.439\n"
     ]
    }
   ],
   "source": [
    "len(resultados)\n",
    "# Numero de resultados\n",
    "print(resultados)\n",
    "# Me muestra una tabla donde me mete los valores detectados de masa, periodo orbital y el metodo de deteccion"
   ]
  },
  {
   "cell_type": "code",
   "execution_count": 6,
   "metadata": {},
   "outputs": [
    {
     "data": {
      "text/plain": [
       "3"
      ]
     },
     "execution_count": 6,
     "metadata": {},
     "output_type": "execute_result"
    }
   ],
   "source": [
    "len(resultados[0])\n",
    "# Numero de columnas"
   ]
  },
  {
   "cell_type": "code",
   "execution_count": 7,
   "metadata": {},
   "outputs": [],
   "source": [
    "np.save('myresults',resultados.to_table())\n",
    "# Pido que me guarde los datos en una tabla numpy"
   ]
  },
  {
   "cell_type": "code",
   "execution_count": 8,
   "metadata": {},
   "outputs": [],
   "source": [
    "resultados = np.load('myresults.npy', allow_pickle=True)\n",
    "# accedemos a la tabla que guardamos"
   ]
  },
  {
   "cell_type": "code",
   "execution_count": 9,
   "metadata": {},
   "outputs": [
    {
     "name": "stdout",
     "output_type": "stream",
     "text": [
      "b'Radial Velocity' 0.47 4.2308\n"
     ]
    }
   ],
   "source": [
    "print(resultados[7] [0], resultados[7] [1], resultados[7] [2])"
   ]
  },
  {
   "cell_type": "code",
   "execution_count": 10,
   "metadata": {},
   "outputs": [
    {
     "name": "stdout",
     "output_type": "stream",
     "text": [
      "b'Imaging' 21.0 730000.0\n"
     ]
    }
   ],
   "source": [
    "print(resultados[0] [0], resultados[0] [1], resultados[0] [2])\n",
    "# Vemos que el primer numero (0) nos indica la fila y el segundo la columna una vez pasado a un array"
   ]
  },
  {
   "cell_type": "code",
   "execution_count": 11,
   "metadata": {},
   "outputs": [
    {
     "data": {
      "text/plain": [
       "1050"
      ]
     },
     "execution_count": 11,
     "metadata": {},
     "output_type": "execute_result"
    }
   ],
   "source": [
    "len(resultados)"
   ]
  },
  {
   "cell_type": "markdown",
   "metadata": {},
   "source": [
    "Quiero filtrar estos datos, separando los metodos usados en cada deteccion (los datos filtrados le aplico log10):"
   ]
  },
  {
   "cell_type": "code",
   "execution_count": 12,
   "metadata": {},
   "outputs": [],
   "source": [
    "# Creo una lista de Masas y Periodos para cada metodo de deteccion\n",
    "Masa1 = []\n",
    "Periodo1 = []\n",
    "Imaging = [Masa1, Periodo1]\n",
    "# Imagenes\n",
    "Masa2 = []\n",
    "Periodo2 = []\n",
    "RV = [Masa2, Periodo2]\n",
    "# Radial Velocity\n",
    "Masa3 = []\n",
    "Periodo3 = []\n",
    "Transito_P = [Masa3, Periodo3]\n",
    "# transito primario\n",
    "Masa4 = []\n",
    "Periodo4 = []\n",
    "Astrometry = [Masa4, Periodo4]\n",
    "\n",
    "Masa5 = []\n",
    "Periodo5 = []\n",
    "Pulsar = [Masa5, Periodo5]\n",
    "# Timing\n",
    "\n",
    "Masa6 = []\n",
    "Periodo6 = []\n",
    "Microlentes = [Masa6, Periodo6]\n",
    "\n",
    "Masa7 = []\n",
    "Periodo7 = []\n",
    "Transito_S= [Masa7, Periodo7]\n",
    "# transito secundario\n",
    "\n",
    "Masa8 = []\n",
    "Periodo8 = []\n",
    "Default = [Masa8, Periodo8]\n",
    "\n",
    "Masa9 = []\n",
    "Periodo9 = []\n",
    "TTV = [Masa9, Periodo9]\n",
    "# Variacion de tiempo de trnasito en sistemas planetarios multiples (por ej. 3 planetas)\n",
    "\n",
    "for i in range(len(resultados)):\n",
    "    if resultados[i][0] == b'Imaging':\n",
    "        Masa1.append(np.log10(resultados[i][1]))\n",
    "        Periodo1.append(np.log10(resultados[i][2]))\n",
    "    elif  resultados[i][0] == b'Radial Velocity':\n",
    "        Masa2.append(np.log10(resultados[i][1]))\n",
    "        Periodo2.append(np.log10(resultados[i][2]))\n",
    "    elif  resultados[i][0] == b'Primary Transit':\n",
    "        Masa3.append(np.log10(resultados[i][1]))\n",
    "        Periodo3.append(np.log10(resultados[i][2]))\n",
    "    elif  resultados[i][0] == b'Astrometry':\n",
    "        Masa4.append(np.log10(resultados[i][1]))\n",
    "        Periodo4.append(np.log10(resultados[i][2]))\n",
    "    elif  resultados[i][0] == b'Pulsar':\n",
    "        Masa5.append(np.log10(resultados[i][1]))\n",
    "        Periodo5.append(np.log10(resultados[i][2]))\n",
    "    elif  resultados[i][0] == b'Microlensing':\n",
    "        Masa6.append(np.log10(resultados[i][1]))\n",
    "        Periodo6.append(np.log10(resultados[i][2]))\n",
    "    elif  resultados[i][0] == b'Secundary Transit':\n",
    "        Masa7.append(np.log10(resultados[i][1]))\n",
    "        Periodo7.append(np.log10(resultados[i][2]))\n",
    "    elif  resultados[i][0] == b'Default':\n",
    "        Masa8.append(np.log10(resultados[i][1]))\n",
    "        Periodo8.append(np.log10(resultados[i][2]))\n",
    "    elif  resultados[i][0] == b'TTV':\n",
    "        Masa9.append(np.log10(resultados[i][1]))\n",
    "        Periodo9.append(np.log10(resultados[i][2]))"
   ]
  },
  {
   "cell_type": "code",
   "execution_count": 3,
   "metadata": {},
   "outputs": [],
   "source": [
    "import matplotlib.pyplot as plt"
   ]
  },
  {
   "cell_type": "code",
   "execution_count": 16,
   "metadata": {},
   "outputs": [
    {
     "data": {
      "image/png": "[encoded data removed]",
      "text/plain": [
       "<Figure size 432x288 with 1 Axes>"
      ]
     },
     "metadata": {
      "needs_background": "light"
     },
     "output_type": "display_data"
    }
   ],
   "source": [
    "plt.xlabel('Log10(Masa) (Mj)')\n",
    "plt.ylabel('Log10(Periodo)(d)')\n",
    "\n",
    "for i in range(3):\n",
    "    plt.scatter(Masa3, Periodo3, color = 'lightblue')   #Transito Primario\n",
    "    plt.scatter(Masa2, Periodo2, color = 'green')       #Velocidad Radial\n",
    "    plt.scatter(Masa1, Periodo1)                        #Imagenes \n",
    "    plt.scatter(Masa4, Periodo4, color = 'yellow')      #Astrometria \n",
    "    plt.scatter(Masa5, Periodo5, color = 'purple')      #Timing O Pulsar\n",
    "    plt.scatter(Masa6, Periodo6, color = 'orange')      #Microlentes\n",
    "    plt.scatter(Masa7, Periodo7, color = 'brown')       #Transito Secundario\n",
    "    plt.scatter(Masa8, Periodo8, color = 'cyan')        #Default\n",
    "    plt.scatter(Masa9, Periodo9, color = 'black')       #TTV\n",
    "#     hice el plot del transito primario como primero para que se superponga con los otros, ya que son mucho mas y no queria que\n",
    "# los tape a los otros scatters"
   ]
  },
  {
   "cell_type": "markdown",
   "metadata": {},
   "source": [
    "Podemos ver que la tecnica de transito primario es la que mayor cantidad de planetas ha descubierto, podriamos \"encerrar\" los planetas obtenidos en en dos intervalos: [-3;2] para la masa ( o sea de menos 1000 veces hasta 100 veces la masa de Jupyter) y periodo [0;2,5] aproximadamente. Esta Tecnica de ve favorecida si el planeta tiene un radio grande relativo a su estrella y se encuentra cerca de esta. \n",
    "La tecnica de velocidad radial utiliza el efecto doppler, cuanto mas masivo el planeta, mas movido el CM sera de la estrella y mayor va a ser este efecto. "
   ]
  },
  {
   "cell_type": "markdown",
   "metadata": {},
   "source": [
    "Para el punto 7, la distancia de los exoplanetas a la estrella importo los valores de los semiejes mayores (a). "
   ]
  },
  {
   "cell_type": "code",
   "execution_count": 17,
   "metadata": {},
   "outputs": [],
   "source": [
    "query = \"SELECT semi_major_axis FROM exoplanet.epn_core WHERE semi_major_axis IS NOT NULL\" "
   ]
  },
  {
   "cell_type": "code",
   "execution_count": 18,
   "metadata": {},
   "outputs": [],
   "source": [
    "resultados3 = service.search(query)"
   ]
  },
  {
   "cell_type": "code",
   "execution_count": 19,
   "metadata": {},
   "outputs": [
    {
     "name": "stdout",
     "output_type": "stream",
     "text": [
      "<Table length=2809>\n",
      "semi_major_axis\n",
      "       AU      \n",
      "    float64    \n",
      "---------------\n",
      "           1.29\n",
      "          243.0\n",
      "           1.54\n",
      "           0.83\n",
      "           2.77\n",
      "           1.68\n",
      "           1.45\n",
      "            2.6\n",
      "          330.0\n",
      "            ...\n",
      "          0.538\n",
      "          1.334\n",
      "          0.133\n",
      "          0.243\n",
      "           1.17\n",
      "          0.059\n",
      "          0.861\n",
      "           2.55\n",
      "         5.2456\n",
      "          907.0\n"
     ]
    }
   ],
   "source": [
    "len(resultados3)\n",
    "print(resultados3)\n",
    "# Vemos el resultados de la busqueda tipo tabla"
   ]
  },
  {
   "cell_type": "code",
   "execution_count": 20,
   "metadata": {},
   "outputs": [],
   "source": [
    "np.save('MiBusqueda',resultados3.to_table())"
   ]
  },
  {
   "cell_type": "code",
   "execution_count": 51,
   "metadata": {},
   "outputs": [],
   "source": [
    "resultados3 = np.load('MiBusqueda.npy', allow_pickle=True)"
   ]
  },
  {
   "cell_type": "code",
   "execution_count": 52,
   "metadata": {},
   "outputs": [
    {
     "data": {
      "text/plain": [
       "array([(  1.29  ,), (243.    ,), (  1.54  ,), ..., (  2.55  ,),\n",
       "       (  5.2456,), (907.    ,)], dtype=[('semi_major_axis', '<f8')])"
      ]
     },
     "execution_count": 52,
     "metadata": {},
     "output_type": "execute_result"
    }
   ],
   "source": [
    "resultados3"
   ]
  },
  {
   "cell_type": "markdown",
   "metadata": {},
   "source": [
    "Vemos que no obtengo un array para poder hacer un histograma (me va a dar error), quiero los valores que estan dentro del parentesis"
   ]
  },
  {
   "cell_type": "code",
   "execution_count": 53,
   "metadata": {},
   "outputs": [
    {
     "data": {
      "text/plain": [
       "1.29"
      ]
     },
     "execution_count": 53,
     "metadata": {},
     "output_type": "execute_result"
    }
   ],
   "source": [
    "resultados3 [0][0]"
   ]
  },
  {
   "cell_type": "code",
   "execution_count": 54,
   "metadata": {},
   "outputs": [],
   "source": [
    "lista3 = []\n",
    "for i in range(len(resultados3)):\n",
    "    lista3.append(np.log10(resultados3[i][0]))\n",
    "#     los paso a log para el plot"
   ]
  },
  {
   "cell_type": "code",
   "execution_count": 55,
   "metadata": {},
   "outputs": [
    {
     "data": {
      "image/png": "[encoded data removed]",
      "text/plain": [
       "<Figure size 432x288 with 1 Axes>"
      ]
     },
     "metadata": {
      "needs_background": "light"
     },
     "output_type": "display_data"
    }
   ],
   "source": [
    "plt.xlabel('Log10(Semieje Mayor) (AU)')\n",
    "plt.ylabel('Frecuencia')\n",
    "a = plt.hist(lista3, bins =25)"
   ]
  },
  {
   "cell_type": "markdown",
   "metadata": {},
   "source": [
    "Los numeros en el eje x indica el exponente del 10, porque recordemos que los valores son pasados al log10, entonces si:\n",
    "b = log10(a) ==> a = 10^b, estamos ploteando en el eje x los exponentes de 10.\n",
    "Los valores del semieje mayor (a), es una V.A.continua, ya que pueden tener cualquier valor y no son acotados superiormente, por lo tanto si debemos comparar dos distribuciones de V.A. continuas y ver si son las mismas, debemos usar el KS Test (de Kolmogorov-Smirnov). \n",
    "KS Test: Es una prueba de hipotesis, con $Ho$ donde suponemos que las dos distribuciones son iguales, el estadistico de prueba $Do$ es la maxima separacion entre las 2 acumuladas, (una la teorica y la otra es la observada), este estadistico no depende de la distribucionque yo asuma y tiene una distribucion conocida, dado un intervalo de confianza, si mi estadistico cae en la la cola de la distribucion, se considera que $Do$ es raro y entonces no tengo pruebas suficientes para aceptar la hipotesis nula y se rechaza que sean de la misma distribucion, si en cambio cae en la zona mas probable, no tengo evidencia suficiente para rechazar $Ho$.\n",
    "\n"
   ]
  },
  {
   "cell_type": "markdown",
   "metadata": {},
   "source": [
    "Una caractereıstica del metodo KS es que es invariante bajo reparametrizaciones de la variable x, es decir, se puede comprimir o alargar el eje x, y la distancia maxima permanecera invariante (por lo tanto no importa la escala del eje x, sirve igualmente)."
   ]
  },
  {
   "cell_type": "code",
   "execution_count": 4,
   "metadata": {},
   "outputs": [],
   "source": [
    "import scipy\n",
    "from scipy import stats as st"
   ]
  },
  {
   "cell_type": "markdown",
   "metadata": {},
   "source": [
    "Entonces debo obtener una gaussiana teorica con la desviacion estandard y la media empirica, luego importar el paquete del KS Test que me calcule el estadistico de prueba. El estadistico obtenido lo comparo con la tabla que me dara el valor critico segun los grados de libertad y el nivel de confianza. "
   ]
  },
  {
   "cell_type": "code",
   "execution_count": 57,
   "metadata": {},
   "outputs": [
    {
     "name": "stdout",
     "output_type": "stream",
     "text": [
      "-0.6237700751328809\n",
      "0.8830084539454216\n"
     ]
    }
   ],
   "source": [
    "mu = (np.mean(lista3))\n",
    "s = np.std(lista3)\n",
    "print(mu)\n",
    "# media\n",
    "print(s)\n",
    "# desviacion estandard "
   ]
  },
  {
   "cell_type": "markdown",
   "metadata": {},
   "source": [
    "Para esto he pensado dos formas de hacerlo, la primera es creando valores random de una distribucion de gaussiana y usar el ks test, la otra es plotear la funcion teorica de la gaussiana. "
   ]
  },
  {
   "cell_type": "code",
   "execution_count": 58,
   "metadata": {},
   "outputs": [
    {
     "data": {
      "text/plain": [
       "(array([  4.,   5.,  13.,  25.,  58.,  63.,  98., 152., 197., 238., 306.,\n",
       "        293., 291., 252., 279., 175., 138.,  95.,  60.,  32.,  18.,  10.,\n",
       "          4.,   2.,   1.]),\n",
       " array([-3.53064196, -3.28639272, -3.04214348, -2.79789424, -2.553645  ,\n",
       "        -2.30939576, -2.06514652, -1.82089728, -1.57664804, -1.3323988 ,\n",
       "        -1.08814956, -0.84390032, -0.59965108, -0.35540184, -0.1111526 ,\n",
       "         0.13309664,  0.37734588,  0.62159512,  0.86584436,  1.1100936 ,\n",
       "         1.35434284,  1.59859208,  1.84284132,  2.08709056,  2.3313398 ,\n",
       "         2.57558904]),\n",
       " <a list of 25 Patch objects>)"
      ]
     },
     "execution_count": 58,
     "metadata": {},
     "output_type": "execute_result"
    },
    {
     "data": {
      "image/png": "[encoded data removed]",
      "text/plain": [
       "<Figure size 432x288 with 1 Axes>"
      ]
     },
     "metadata": {
      "needs_background": "light"
     },
     "output_type": "display_data"
    }
   ],
   "source": [
    "# Primera forma:\n",
    "x1 =scipy.random.normal(loc = mu, scale = s, size = len(lista3))\n",
    "# genera un random de distribucion normal estandar\n",
    "# scale es la desviacion estandard\n",
    "# loc es la media\n",
    "# size es es el numero de la muestra\n",
    "plt.hist(x1, bins = 25)"
   ]
  },
  {
   "cell_type": "code",
   "execution_count": 59,
   "metadata": {},
   "outputs": [
    {
     "data": {
      "text/plain": [
       "KstestResult(statistic=0.12709149163403347, pvalue=3.519747234698515e-20)"
      ]
     },
     "execution_count": 59,
     "metadata": {},
     "output_type": "execute_result"
    }
   ],
   "source": [
    "st.kstest(lista3, x1)\n",
    "# al final analizo los resultados"
   ]
  },
  {
   "cell_type": "code",
   "execution_count": 60,
   "metadata": {},
   "outputs": [
    {
     "data": {
      "text/plain": [
       "KstestResult(statistic=0.12709149163403347, pvalue=3.519747234698515e-20)"
      ]
     },
     "execution_count": 60,
     "metadata": {},
     "output_type": "execute_result"
    }
   ],
   "source": [
    "st.ks_2samp(lista3, x1)\n",
    "# Compara 2 muestras para ver si son de la misma distribucion"
   ]
  },
  {
   "cell_type": "markdown",
   "metadata": {},
   "source": [
    "Segunda forma:"
   ]
  },
  {
   "cell_type": "markdown",
   "metadata": {},
   "source": [
    "a[1] es la lista del intervalo de los bins, uso estos cuando quiero dar el intervalo para la gaussiana teorica"
   ]
  },
  {
   "cell_type": "code",
   "execution_count": 62,
   "metadata": {},
   "outputs": [],
   "source": [
    "val_norm = []\n",
    "# los valores de la gaussiana teorica\n",
    "for i in range(len(a[1])):\n",
    "    y = st.norm.pdf(a[1][i], mu, s)\n",
    "#     dentro de cada intervalo me genera valores continuos de una gaussiana con esos mu, s dados\n",
    "    val_norm.append(y)"
   ]
  },
  {
   "cell_type": "code",
   "execution_count": 63,
   "metadata": {},
   "outputs": [
    {
     "data": {
      "image/png": "[encoded data removed]",
      "text/plain": [
       "<Figure size 432x288 with 1 Axes>"
      ]
     },
     "metadata": {
      "needs_background": "light"
     },
     "output_type": "display_data"
    }
   ],
   "source": [
    "plt.plot(a[1], val_norm, color = 'orange')\n",
    "# defino la gaussiana con media y sigma igual que la empirica, dentro del intervalo de esta misma usando su bins obtenidos.\n",
    "A = plt.hist(lista3, bins =25, density = True)\n",
    "# Hago el plot con la frecuencia relativa."
   ]
  },
  {
   "cell_type": "code",
   "execution_count": 64,
   "metadata": {},
   "outputs": [],
   "source": [
    "val_array = np.array(val_norm)\n",
    "# Los valores obtenidos son valores de frecuencia relativa, lo paso a un array y lo multiplico por len(lista3) para obtener la\n",
    "# frecuencia absoluta"
   ]
  },
  {
   "cell_type": "code",
   "execution_count": 65,
   "metadata": {},
   "outputs": [
    {
     "data": {
      "text/plain": [
       "KstestResult(statistic=0.7760084344278008, pvalue=2.220446049250313e-15)"
      ]
     },
     "execution_count": 65,
     "metadata": {},
     "output_type": "execute_result"
    }
   ],
   "source": [
    "st.kstest(lista3, val_array*len(lista3))"
   ]
  },
  {
   "cell_type": "code",
   "execution_count": 66,
   "metadata": {},
   "outputs": [
    {
     "data": {
      "text/plain": [
       "KstestResult(statistic=0.7760084344278008, pvalue=2.220446049250313e-15)"
      ]
     },
     "execution_count": 66,
     "metadata": {},
     "output_type": "execute_result"
    }
   ],
   "source": [
    "st.ks_2samp(lista3, val_array*len(lista3))"
   ]
  },
  {
   "cell_type": "markdown",
   "metadata": {},
   "source": [
    "El valor $p$ es un valor de probabilidad, por lo que oscila entre 0 y 1. El valor p nos muestra la probabilidad de haber obtenido el resultado que hemos obtenido suponiendo que la hipótesis nula $Ho$ es cierta. Se suele decir que valores altos de $p$ no permiten rechazar la $Ho$, mientras que valores bajos de $p$ sí permiten rechazar la $Ho$.\n",
    "\n",
    "En una prueba estadística, se rechaza la hipótesis nula $Ho$ si el valor p asociado al resultado observado es igual o menor que un nivel de significación $\\alpha$  establecido arbitrariamente, convencionalmente 0,05 ó 0,01. En otras palabras, si el resultado obtenido es más inusual que el rango esperado de resultados dada una hipótesis nula $Ho$ cierta y el nivel de significación $\\alpha$  elegido, es decir si $p$ es menor que $\\alpha$ , podemos decir que tenemos un resultado estadísticamente significativo que permite rechazar $Ho$.\n",
    "\n",
    "Como el valor de $p$ obtenido de ambas formas es mucho menor que  $\\alpha$ = 0.05, se rechaza la $Ho$ a favor de la alternativa y la distribucion de las distancias de los exoplanetas a la estrella no sigue una gaussiana."
   ]
  },
  {
   "cell_type": "markdown",
   "metadata": {},
   "source": [
    "$Problema 8$"
   ]
  },
  {
   "cell_type": "code",
   "execution_count": 10,
   "metadata": {},
   "outputs": [],
   "source": [
    "query = \"SELECT mass, radius FROM exoplanet.epn_core WHERE mass IS NOT NULL AND radius IS NOT NULL\" "
   ]
  },
  {
   "cell_type": "code",
   "execution_count": 11,
   "metadata": {},
   "outputs": [],
   "source": [
    "resultados4 = service.search(query)"
   ]
  },
  {
   "cell_type": "code",
   "execution_count": 12,
   "metadata": {},
   "outputs": [
    {
     "name": "stdout",
     "output_type": "stream",
     "text": [
      "<Table length=943>\n",
      "     mass        radius   \n",
      "'jupiterMass' 'jupiterRad'\n",
      "   float64      float64   \n",
      "------------- ------------\n",
      "         14.0          1.7\n",
      "         20.0          1.0\n",
      "         13.9         1.44\n",
      "         20.0         0.92\n",
      "         30.0          1.3\n",
      "          2.6         1.11\n",
      "         0.47          1.9\n",
      "      0.02703       0.1737\n",
      "         54.2         1.02\n",
      "          ...          ...\n",
      "         0.62        0.973\n",
      "        11.79        1.217\n",
      "        1.616        1.317\n",
      "        1.077         1.03\n",
      "          1.9         2.07\n",
      "        0.709        1.373\n",
      "         11.7         1.65\n",
      "          8.2          1.2\n",
      "         13.0          1.2\n",
      "      0.01517      0.16719\n"
     ]
    }
   ],
   "source": [
    "len(resultados4)\n",
    "print(resultados4)\n",
    "# Vemos el resultados de la busqueda tipo tabla"
   ]
  },
  {
   "cell_type": "code",
   "execution_count": 78,
   "metadata": {},
   "outputs": [],
   "source": [
    "np.save('MasayRadio',resultados4.to_table())"
   ]
  },
  {
   "cell_type": "code",
   "execution_count": 5,
   "metadata": {},
   "outputs": [],
   "source": [
    "resultados4 = np.load('MasayRadio.npy', allow_pickle=True)"
   ]
  },
  {
   "cell_type": "code",
   "execution_count": 6,
   "metadata": {},
   "outputs": [
    {
     "data": {
      "text/plain": [
       "(14., 1.7)"
      ]
     },
     "execution_count": 6,
     "metadata": {},
     "output_type": "execute_result"
    }
   ],
   "source": [
    "resultados4 [0]"
   ]
  },
  {
   "cell_type": "code",
   "execution_count": 7,
   "metadata": {},
   "outputs": [],
   "source": [
    "Masa = []\n",
    "Radio = []\n",
    "for i in range (len(resultados4)):\n",
    "    Masa.append(np.log10(resultados4[i][0]))\n",
    "    Radio.append(np.log10(resultados4[i][1]))"
   ]
  },
  {
   "cell_type": "code",
   "execution_count": 8,
   "metadata": {},
   "outputs": [
    {
     "data": {
      "text/plain": [
       "Text(0, 0.5, 'Log10(Radio) (Rj)')"
      ]
     },
     "execution_count": 8,
     "metadata": {},
     "output_type": "execute_result"
    },
    {
     "data": {
      "image/png": "[encoded data removed]",
      "text/plain": [
       "<Figure size 432x288 with 1 Axes>"
      ]
     },
     "metadata": {
      "needs_background": "light"
     },
     "output_type": "display_data"
    }
   ],
   "source": [
    "plt.scatter(Masa, Radio)\n",
    "plt.xlabel('Log10(Masa) (Mj)')\n",
    "plt.ylabel('Log10(Radio) (Rj)')"
   ]
  },
  {
   "cell_type": "markdown",
   "metadata": {},
   "source": [
    "Para el ajuste del modelo, usamos el Metodo de Expectacion de Maximizacion, para eso importo sk learn, es un paquete de python donde yo le doy el numero de ajuste de gaussianas mixtas, y me encuentra sus valores de media, covarianza y peso caracteristico con varias iteraciones, para un mejor ajuste s ele puede dar un parametro inicial de estos valores"
   ]
  },
  {
   "cell_type": "code",
   "execution_count": 9,
   "metadata": {},
   "outputs": [],
   "source": [
    "from sklearn import mixture"
   ]
  },
  {
   "cell_type": "code",
   "execution_count": 30,
   "metadata": {},
   "outputs": [],
   "source": [
    "# gaussian mixture?"
   ]
  },
  {
   "cell_type": "code",
   "execution_count": 31,
   "metadata": {},
   "outputs": [],
   "source": [
    "gmm = mixture.GaussianMixture(n_components = 2)\n",
    "# llamo gmm a la gaussian mixture con ajuste de 2 gaussianas"
   ]
  },
  {
   "cell_type": "code",
   "execution_count": 32,
   "metadata": {},
   "outputs": [],
   "source": [
    "A = np.zeros([len(Masa), 2])\n",
    "# Genero una matriz nula, con filas igual a la cantidad de elementos de la masa y 2 columnas"
   ]
  },
  {
   "cell_type": "code",
   "execution_count": 33,
   "metadata": {},
   "outputs": [],
   "source": [
    "A[:,0] = Masa\n",
    "# Inserto en la primera columna los valores de la masa de los planetas\n",
    "A[:,1] = Radio \n",
    "# Inserto en la segunda columna los valores de los radios de los planetas"
   ]
  },
  {
   "cell_type": "code",
   "execution_count": 34,
   "metadata": {},
   "outputs": [],
   "source": [
    "# A"
   ]
  },
  {
   "cell_type": "code",
   "execution_count": 35,
   "metadata": {},
   "outputs": [
    {
     "data": {
      "text/plain": [
       "GaussianMixture(n_components=2)"
      ]
     },
     "execution_count": 35,
     "metadata": {},
     "output_type": "execute_result"
    }
   ],
   "source": [
    "gmm.fit(A)\n",
    "# Nos devuelve A pero con nuevas propiedades"
   ]
  },
  {
   "cell_type": "code",
   "execution_count": 36,
   "metadata": {},
   "outputs": [],
   "source": [
    "# gmm.predict(A)\n",
    "# Nos separa en etiquetas (labels) los datos de A, porque en este caso lo quisimos ajustar con 2 gaussianas"
   ]
  },
  {
   "cell_type": "code",
   "execution_count": 37,
   "metadata": {},
   "outputs": [
    {
     "data": {
      "text/plain": [
       "<matplotlib.collections.PathCollection at 0x8d356e8>"
      ]
     },
     "execution_count": 37,
     "metadata": {},
     "output_type": "execute_result"
    },
    {
     "data": {
      "image/png": "[encoded data removed]",
      "text/plain": [
       "<Figure size 432x288 with 1 Axes>"
      ]
     },
     "metadata": {
      "needs_background": "light"
     },
     "output_type": "display_data"
    }
   ],
   "source": [
    "plt.scatter(Masa, Radio, c = np.array(gmm.predict(A)))\n",
    "# Nos asigna un color a los puntos, uno por cada gaussiana en las que los divide"
   ]
  },
  {
   "cell_type": "code",
   "execution_count": 49,
   "metadata": {},
   "outputs": [
    {
     "data": {
      "text/plain": [
       "array([[-1.38576725, -0.63139662],\n",
       "       [ 0.13707855,  0.0892171 ]])"
      ]
     },
     "execution_count": 49,
     "metadata": {},
     "output_type": "execute_result"
    }
   ],
   "source": [
    "means = gmm.means_\n",
    "means\n",
    "# Nos devuelve las corrdenadas de las medias"
   ]
  },
  {
   "cell_type": "code",
   "execution_count": 52,
   "metadata": {},
   "outputs": [
    {
     "data": {
      "text/plain": [
       "array([[[0.56218659, 0.13139782],\n",
       "        [0.13139782, 0.08221034]],\n",
       "\n",
       "       [[0.30084131, 0.00067656],\n",
       "        [0.00067656, 0.00898887]]])"
      ]
     },
     "execution_count": 52,
     "metadata": {},
     "output_type": "execute_result"
    }
   ],
   "source": [
    "stds = gmm.covariances_\n",
    "stds\n",
    "# Nos devuelve las covarianzas"
   ]
  },
  {
   "cell_type": "code",
   "execution_count": 51,
   "metadata": {},
   "outputs": [
    {
     "data": {
      "text/plain": [
       "array([0.42367957, 0.57632043])"
      ]
     },
     "execution_count": 51,
     "metadata": {},
     "output_type": "execute_result"
    }
   ],
   "source": [
    "peso = gmm.weights_\n",
    "peso\n",
    "# Nos da el peso de cada distribucion de puntos en la cual los hemos divididos"
   ]
  },
  {
   "cell_type": "markdown",
   "metadata": {},
   "source": [
    "Se aconseja para el futuro intentarlo a hacerlo a mano, o sea, encontrar los parametros: la media, la covarianza y el peso caracteristico, e intentar a hacer el ajuste a mano o insertar los prametros encontrados en el sk-learn para mejor optimizacion "
   ]
  },
  {
   "cell_type": "markdown",
   "metadata": {},
   "source": [
    "Pero como se cuantas gaussianas son las adecuadas para el ajuste? Para eso podemos usar dos modelos de criterio:\n",
    "Criterio de caracterizacion bayesiano (BIC)\n",
    "Criterio de crcterizacion de Aikaki (AIC).\n",
    "\n",
    "El menor numero al que llegan en las iteraciones, supongamos en n = 3, entonces 3 gaussianas son las adecuadas para el ajuste."
   ]
  },
  {
   "cell_type": "code",
   "execution_count": 17,
   "metadata": {},
   "outputs": [],
   "source": [
    "B = gmm.aic(A)\n",
    "C = gmm.bic(A)"
   ]
  },
  {
   "cell_type": "code",
   "execution_count": 30,
   "metadata": {},
   "outputs": [
    {
     "name": "stdout",
     "output_type": "stream",
     "text": [
      "1900.8708838943674 1954.1638541656582\n",
      "1642.8625308758933 1725.2243940224337\n",
      "1623.1991687193738 1734.629924741164\n",
      "1583.6619153667457 1724.1615642637853\n",
      "1547.8582524174603 1717.4267941897494\n",
      "1516.9833681754776 1715.6208028230164\n",
      "1521.3286129348062 1749.0349404575945\n",
      "1520.7170917843735 1777.4923121824113\n"
     ]
    },
    {
     "data": {
      "image/png": "[encoded data removed]",
      "text/plain": [
       "<Figure size 432x288 with 1 Axes>"
      ]
     },
     "metadata": {
      "needs_background": "light"
     },
     "output_type": "display_data"
    }
   ],
   "source": [
    "Aics = []\n",
    "Bics = []\n",
    "for i in range(2,10):\n",
    "    gmms = mixture.GaussianMixture(n_components=i)\n",
    "    gmms.fit(A)\n",
    "    B = gmms.aic(A)\n",
    "    C=gmms.bic(A)\n",
    "    Aics.append(B)\n",
    "    Bics.append(C)\n",
    "\n",
    "plt.plot(np.arange(2,10,1), Aics)\n",
    "plt.plot(np.arange(2,10,1), Bics, color = 'orange')\n",
    "for i, j in zip(Aics, Bics):\n",
    "    print (i,j)"
   ]
  },
  {
   "cell_type": "markdown",
   "metadata": {},
   "source": [
    "Vemos que para ambos metodos, con 7 gaussianas se realiza el mejor ajuste"
   ]
  },
  {
   "cell_type": "code",
   "execution_count": null,
   "metadata": {},
   "outputs": [],
   "source": []
  },
  {
   "cell_type": "code",
   "execution_count": null,
   "metadata": {},
   "outputs": [],
   "source": []
  },
  {
   "cell_type": "code",
   "execution_count": null,
   "metadata": {},
   "outputs": [],
   "source": []
  },
  {
   "cell_type": "code",
   "execution_count": null,
   "metadata": {},
   "outputs": [],
   "source": []
  },
  {
   "cell_type": "code",
   "execution_count": null,
   "metadata": {},
   "outputs": [],
   "source": []
  },
  {
   "cell_type": "code",
   "execution_count": null,
   "metadata": {},
   "outputs": [],
   "source": []
  },
  {
   "cell_type": "code",
   "execution_count": null,
   "metadata": {},
   "outputs": [],
   "source": []
  },
  {
   "cell_type": "code",
   "execution_count": null,
   "metadata": {},
   "outputs": [],
   "source": []
  },
  {
   "cell_type": "code",
   "execution_count": null,
   "metadata": {},
   "outputs": [],
   "source": []
  },
  {
   "cell_type": "code",
   "execution_count": null,
   "metadata": {},
   "outputs": [],
   "source": []
  },
  {
   "cell_type": "code",
   "execution_count": null,
   "metadata": {},
   "outputs": [],
   "source": []
  },
  {
   "cell_type": "code",
   "execution_count": null,
   "metadata": {},
   "outputs": [],
   "source": []
  },
  {
   "cell_type": "code",
   "execution_count": null,
   "metadata": {},
   "outputs": [],
   "source": []
  },
  {
   "cell_type": "code",
   "execution_count": null,
   "metadata": {},
   "outputs": [],
   "source": []
  },
  {
   "cell_type": "code",
   "execution_count": null,
   "metadata": {},
   "outputs": [],
   "source": []
  }
 ],
 "metadata": {
  "kernelspec": {
   "display_name": "Python 3",
   "language": "python",
   "name": "python3"
  },
  "language_info": {
   "codemirror_mode": {
    "name": "ipython",
    "version": 3
   },
   "file_extension": ".py",
   "mimetype": "text/x-python",
   "name": "python",
   "nbconvert_exporter": "python",
   "pygments_lexer": "ipython3",
   "version": "3.8.3"
  }
 },
 "nbformat": 4,
 "nbformat_minor": 4
}
